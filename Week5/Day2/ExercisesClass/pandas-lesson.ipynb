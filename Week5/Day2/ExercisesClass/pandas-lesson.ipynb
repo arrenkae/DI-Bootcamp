{
 "cells": [
  {
   "cell_type": "code",
   "execution_count": 156,
   "id": "43788a97-38f9-4ab7-a8a5-e571c0d37ff8",
   "metadata": {},
   "outputs": [],
   "source": [
    "import numpy as np\n",
    "import pandas as pd"
   ]
  },
  {
   "cell_type": "code",
   "execution_count": 157,
   "id": "d24d146a-0287-450f-859c-4e91018a16ee",
   "metadata": {},
   "outputs": [
    {
     "data": {
      "text/plain": [
       "0       0\n",
       "1       5\n",
       "2     155\n",
       "3       0\n",
       "4     518\n",
       "5       9\n",
       "6    1827\n",
       "7     616\n",
       "8     317\n",
       "9     325\n",
       "Name: Sales, dtype: int64"
      ]
     },
     "execution_count": 157,
     "metadata": {},
     "output_type": "execute_result"
    }
   ],
   "source": [
    "sales = [0, 5, 155, 0, 518, 9, 1827, 616, 317, 325]\n",
    "sales_series = pd.Series(sales, name='Sales')\n",
    "sales_series"
   ]
  },
  {
   "cell_type": "markdown",
   "id": "2b8c3acc-eb16-4c68-8df7-b04d2fb19862",
   "metadata": {},
   "source": [
    "## Panda Series properties:\n",
    "- values\n",
    "- index\n",
    "- name\n",
    "- dtype"
   ]
  },
  {
   "cell_type": "code",
   "execution_count": 158,
   "id": "4b061c9f-948e-47dd-bfc7-46e5b06d4149",
   "metadata": {},
   "outputs": [
    {
     "data": {
      "text/plain": [
       "array([   0,    5,  155,    0,  518,    9, 1827,  616,  317,  325])"
      ]
     },
     "execution_count": 158,
     "metadata": {},
     "output_type": "execute_result"
    }
   ],
   "source": [
    "sales_series.values"
   ]
  },
  {
   "cell_type": "code",
   "execution_count": 159,
   "id": "83ed495a-e59a-435b-a24e-822ac087dd1d",
   "metadata": {},
   "outputs": [
    {
     "data": {
      "text/plain": [
       "RangeIndex(start=0, stop=10, step=1)"
      ]
     },
     "execution_count": 159,
     "metadata": {},
     "output_type": "execute_result"
    }
   ],
   "source": [
    "sales_series.index"
   ]
  },
  {
   "cell_type": "code",
   "execution_count": 160,
   "id": "6d79c800-5b0e-4cd1-9aa3-61e957c2207e",
   "metadata": {},
   "outputs": [
    {
     "data": {
      "text/plain": [
       "'Sales'"
      ]
     },
     "execution_count": 160,
     "metadata": {},
     "output_type": "execute_result"
    }
   ],
   "source": [
    "sales_series.name"
   ]
  },
  {
   "cell_type": "code",
   "execution_count": 161,
   "id": "b899f6d0-f7c7-47fa-8539-3f83800529cd",
   "metadata": {},
   "outputs": [
    {
     "data": {
      "text/plain": [
       "dtype('int64')"
      ]
     },
     "execution_count": 161,
     "metadata": {},
     "output_type": "execute_result"
    }
   ],
   "source": [
    "sales_series.dtype"
   ]
  },
  {
   "cell_type": "code",
   "execution_count": 162,
   "id": "2f5879eb-7ca5-4cd3-8ab3-f872df4962ac",
   "metadata": {},
   "outputs": [
    {
     "data": {
      "text/plain": [
       "0    False\n",
       "1     True\n",
       "2     True\n",
       "3    False\n",
       "4     True\n",
       "5     True\n",
       "6     True\n",
       "7     True\n",
       "8     True\n",
       "9     True\n",
       "Name: Sales, dtype: bool"
      ]
     },
     "execution_count": 162,
     "metadata": {},
     "output_type": "execute_result"
    }
   ],
   "source": [
    "sales_series.astype('bool')"
   ]
  },
  {
   "cell_type": "code",
   "execution_count": 163,
   "id": "914ba9de-a9c9-4845-a2d1-f6d42cf08dfe",
   "metadata": {},
   "outputs": [
    {
     "data": {
      "text/plain": [
       "0       0.0\n",
       "1       5.0\n",
       "2     155.0\n",
       "3       0.0\n",
       "4     518.0\n",
       "5       9.0\n",
       "6    1827.0\n",
       "7     616.0\n",
       "8     317.0\n",
       "9     325.0\n",
       "Name: Sales, dtype: float64"
      ]
     },
     "execution_count": 163,
     "metadata": {},
     "output_type": "execute_result"
    }
   ],
   "source": [
    "sales_series.astype('float')"
   ]
  },
  {
   "cell_type": "code",
   "execution_count": 146,
   "id": "eead7b65-71da-4e4c-9dc9-81ce91c563aa",
   "metadata": {},
   "outputs": [
    {
     "data": {
      "text/plain": [
       "array([52.22, 51.44, 51.98, 52.01, 52.82, 54.01, 53.8 , 53.75, 52.36,\n",
       "       53.26, 53.77, 53.98, 51.95, 50.82, 52.19, 53.01, 52.36, 52.45,\n",
       "       51.12, 51.39, 52.33, 52.77, 52.38, 52.14, 53.24, 53.18, 52.63,\n",
       "       52.75, 53.9 , 53.55, 53.81, 53.01, 52.19, 52.37, 52.99, 53.84,\n",
       "       52.96, 53.21, 53.11, 53.41, 53.41, 54.02, 53.61, 54.48, 53.99,\n",
       "       54.04, 54.  , 53.82, 52.63, 53.33, 53.19, 52.68, 49.83, 48.75,\n",
       "       48.05, 47.95, 47.24, 48.34, 48.3 , 48.34, 47.79, 47.02, 47.29,\n",
       "       47.  , 47.3 , 47.02, 48.36, 49.47, 50.3 , 50.54, 50.25, 50.99,\n",
       "       51.14, 51.69, 52.25, 53.06, 53.38, 53.12, 53.19, 52.62, 52.46,\n",
       "       50.49, 50.26, 49.64, 48.9 , 49.22, 49.22, 48.96, 49.31, 48.83,\n",
       "       47.65, 47.79, 45.55, 46.23, 46.46, 45.84, 47.28, 47.81, 47.83,\n",
       "       48.86])"
      ]
     },
     "execution_count": 146,
     "metadata": {},
     "output_type": "execute_result"
    }
   ],
   "source": [
    "# create a Dataframe from the oil file, drop missing values\n",
    "oil = pd.read_csv('./oil.csv').dropna()\n",
    "# pd.to_csv\n",
    "\n",
    "# Grab 100 rows of oil prices\n",
    "oil_array = np.array(oil['dcoilwtico'].iloc[1000:1100])\n",
    "\n",
    "oil_array"
   ]
  },
  {
   "cell_type": "code",
   "execution_count": 147,
   "id": "55001160-afb1-47fa-b794-95ef677b249c",
   "metadata": {},
   "outputs": [
    {
     "data": {
      "text/plain": [
       "0     52.22\n",
       "1     51.44\n",
       "2     51.98\n",
       "3     52.01\n",
       "4     52.82\n",
       "      ...  \n",
       "95    45.84\n",
       "96    47.28\n",
       "97    47.81\n",
       "98    47.83\n",
       "99    48.86\n",
       "Name: oil_prieces, Length: 100, dtype: float64"
      ]
     },
     "execution_count": 147,
     "metadata": {},
     "output_type": "execute_result"
    }
   ],
   "source": [
    "# convert oil_array to a series\n",
    "\n",
    "oil_series = pd.Series(oil_array, name = 'oil_prieces')\n",
    "oil_series"
   ]
  },
  {
   "cell_type": "code",
   "execution_count": 7,
   "id": "030707c1-8e1a-4ac6-94c8-1ffdfcc710f6",
   "metadata": {},
   "outputs": [
    {
     "data": {
      "text/plain": [
       "'oil_prieces'"
      ]
     },
     "execution_count": 7,
     "metadata": {},
     "output_type": "execute_result"
    }
   ],
   "source": [
    "oil_series.name"
   ]
  },
  {
   "cell_type": "code",
   "execution_count": 8,
   "id": "05377827-8bab-4d89-a465-20d778973f28",
   "metadata": {},
   "outputs": [
    {
     "data": {
      "text/plain": [
       "51.128299999999996"
      ]
     },
     "execution_count": 8,
     "metadata": {},
     "output_type": "execute_result"
    }
   ],
   "source": [
    "oil_series.mean()"
   ]
  },
  {
   "cell_type": "code",
   "execution_count": 9,
   "id": "105df827-1b6c-48e4-b58d-a00775e3847f",
   "metadata": {},
   "outputs": [
    {
     "data": {
      "text/plain": [
       "50.66"
      ]
     },
     "execution_count": 9,
     "metadata": {},
     "output_type": "execute_result"
    }
   ],
   "source": [
    "oil_series.astype('int').mean()"
   ]
  },
  {
   "cell_type": "code",
   "execution_count": 11,
   "id": "9e0ddd63-df44-44e4-ad92-acf6f5f54901",
   "metadata": {},
   "outputs": [
    {
     "data": {
      "text/plain": [
       "0     52\n",
       "1     51\n",
       "2     51\n",
       "3     52\n",
       "4     52\n",
       "      ..\n",
       "95    45\n",
       "96    47\n",
       "97    47\n",
       "98    47\n",
       "99    48\n",
       "Name: oil_prieces, Length: 100, dtype: int64"
      ]
     },
     "execution_count": 11,
     "metadata": {},
     "output_type": "execute_result"
    }
   ],
   "source": [
    "oil_series.astype('int')"
   ]
  },
  {
   "cell_type": "code",
   "execution_count": 13,
   "id": "65698474-a609-4e55-813e-16c20a9cfefd",
   "metadata": {},
   "outputs": [
    {
     "data": {
      "text/plain": [
       "0       0\n",
       "1       5\n",
       "2     155\n",
       "3       0\n",
       "4     518\n",
       "5       9\n",
       "6    1827\n",
       "7     616\n",
       "8     317\n",
       "9     325\n",
       "Name: Sales, dtype: int64"
      ]
     },
     "execution_count": 13,
     "metadata": {},
     "output_type": "execute_result"
    }
   ],
   "source": [
    "sales_series"
   ]
  },
  {
   "cell_type": "code",
   "execution_count": 14,
   "id": "7c350b87-9c5b-4dfb-bc68-9c78fc06b4f5",
   "metadata": {},
   "outputs": [
    {
     "data": {
      "text/plain": [
       "155"
      ]
     },
     "execution_count": 14,
     "metadata": {},
     "output_type": "execute_result"
    }
   ],
   "source": [
    "sales_series[2]"
   ]
  },
  {
   "cell_type": "code",
   "execution_count": 15,
   "id": "d7529c04-ca81-4dc9-8fa6-8031a9f371fe",
   "metadata": {},
   "outputs": [
    {
     "data": {
      "text/plain": [
       "2    155\n",
       "3      0\n",
       "Name: Sales, dtype: int64"
      ]
     },
     "execution_count": 15,
     "metadata": {},
     "output_type": "execute_result"
    }
   ],
   "source": [
    "sales_series[2:4]"
   ]
  },
  {
   "cell_type": "code",
   "execution_count": 22,
   "id": "3366a86a-9976-4b47-83cb-73545ff14c4d",
   "metadata": {},
   "outputs": [
    {
     "data": {
      "text/plain": [
       "0      0\n",
       "1      5\n",
       "2    155\n",
       "3      0\n",
       "4    518\n",
       "Name: Sales, dtype: int64"
      ]
     },
     "execution_count": 22,
     "metadata": {},
     "output_type": "execute_result"
    }
   ],
   "source": [
    "items = ['coffee', 'bananas', 'tea', 'coconut', 'sugar']\n",
    "sales_items = sales_series[:5]\n",
    "sales_items"
   ]
  },
  {
   "cell_type": "code",
   "execution_count": 25,
   "id": "480ad023-733d-4096-a831-e68032553857",
   "metadata": {},
   "outputs": [
    {
     "data": {
      "text/plain": [
       "coffee       0\n",
       "bananas      5\n",
       "tea        155\n",
       "coconut      0\n",
       "sugar      518\n",
       "Name: Sales, dtype: int64"
      ]
     },
     "execution_count": 25,
     "metadata": {},
     "output_type": "execute_result"
    }
   ],
   "source": [
    "# pd_sales = pd.Series(sales_items_list, index=items, name = 'Sales_Item')\n",
    "sales_items.index = items\n",
    "sales_items"
   ]
  },
  {
   "cell_type": "code",
   "execution_count": 26,
   "id": "4684beaf-bc75-4039-baef-0338f78d02b5",
   "metadata": {},
   "outputs": [
    {
     "data": {
      "text/plain": [
       "155"
      ]
     },
     "execution_count": 26,
     "metadata": {},
     "output_type": "execute_result"
    }
   ],
   "source": [
    "sales_items['tea']"
   ]
  },
  {
   "cell_type": "code",
   "execution_count": 27,
   "id": "9001e4b1-d17d-4dc0-90ca-46b793055dad",
   "metadata": {},
   "outputs": [
    {
     "data": {
      "text/plain": [
       "bananas      5\n",
       "tea        155\n",
       "coconut      0\n",
       "Name: Sales, dtype: int64"
      ]
     },
     "execution_count": 27,
     "metadata": {},
     "output_type": "execute_result"
    }
   ],
   "source": [
    "sales_items['bananas':'coconut']"
   ]
  },
  {
   "cell_type": "markdown",
   "id": "97e7f3d6-f79f-4495-a3f7-8b9f760145fd",
   "metadata": {},
   "source": [
    "# ILOC METHOD\n",
    ".iloc method - access values by their positional index\n",
    "\n",
    "#### df.iloc[row position, column position]"
   ]
  },
  {
   "cell_type": "code",
   "execution_count": 28,
   "id": "965b876c-6079-4d84-bdf7-2a61adcaef00",
   "metadata": {},
   "outputs": [
    {
     "data": {
      "text/plain": [
       "155"
      ]
     },
     "execution_count": 28,
     "metadata": {},
     "output_type": "execute_result"
    }
   ],
   "source": [
    "sales_items.iloc[2]"
   ]
  },
  {
   "cell_type": "code",
   "execution_count": 30,
   "id": "ac8cb13c-1fdd-44af-a2bf-a1ea98822964",
   "metadata": {},
   "outputs": [
    {
     "data": {
      "text/plain": [
       "coconut      0\n",
       "sugar      518\n",
       "Name: Sales, dtype: int64"
      ]
     },
     "execution_count": 30,
     "metadata": {},
     "output_type": "execute_result"
    }
   ],
   "source": [
    "sales_items.iloc[3:5]"
   ]
  },
  {
   "cell_type": "code",
   "execution_count": 31,
   "id": "42292553-7e08-4446-b2e6-b29b4c4644f1",
   "metadata": {},
   "outputs": [
    {
     "data": {
      "text/plain": [
       "155"
      ]
     },
     "execution_count": 31,
     "metadata": {},
     "output_type": "execute_result"
    }
   ],
   "source": [
    "sales_items.loc['tea']"
   ]
  },
  {
   "cell_type": "code",
   "execution_count": 32,
   "id": "15e51430-f294-4b91-872f-5ad5105c3385",
   "metadata": {},
   "outputs": [
    {
     "data": {
      "text/plain": [
       "bananas      5\n",
       "tea        155\n",
       "coconut      0\n",
       "sugar      518\n",
       "Name: Sales, dtype: int64"
      ]
     },
     "execution_count": 32,
     "metadata": {},
     "output_type": "execute_result"
    }
   ],
   "source": [
    "sales_items.loc['bananas':'sugar']"
   ]
  },
  {
   "cell_type": "markdown",
   "id": "3a9d2cdb-fa58-4020-9e79-9bebc9657316",
   "metadata": {},
   "source": [
    "### DUPLICATE INDEX VALUES"
   ]
  },
  {
   "cell_type": "code",
   "execution_count": 33,
   "id": "9956ef07-6ad7-4294-8e21-53e3c3619c9a",
   "metadata": {},
   "outputs": [],
   "source": [
    "items = ['coffee', 'coffee', 'tea', 'coconut', 'sugar']"
   ]
  },
  {
   "cell_type": "code",
   "execution_count": 34,
   "id": "b2e05879-e3a1-45b2-9701-735dfe60c0f6",
   "metadata": {},
   "outputs": [
    {
     "data": {
      "text/plain": [
       "coffee       0\n",
       "coffee       5\n",
       "tea        155\n",
       "coconut      0\n",
       "sugar      518\n",
       "Name: Sales, dtype: int64"
      ]
     },
     "execution_count": 34,
     "metadata": {},
     "output_type": "execute_result"
    }
   ],
   "source": [
    "sales_items.index = items\n",
    "sales_items"
   ]
  },
  {
   "cell_type": "code",
   "execution_count": 35,
   "id": "915848bf-2169-40e6-ba36-67cd2b0ac712",
   "metadata": {},
   "outputs": [
    {
     "data": {
      "text/plain": [
       "coffee    0\n",
       "coffee    5\n",
       "Name: Sales, dtype: int64"
      ]
     },
     "execution_count": 35,
     "metadata": {},
     "output_type": "execute_result"
    }
   ],
   "source": [
    "sales_items.loc['coffee']"
   ]
  },
  {
   "cell_type": "markdown",
   "id": "0dc67b5e-7fbe-49fc-8650-e09b2362636e",
   "metadata": {},
   "source": [
    "### RESETTING THE INDEX"
   ]
  },
  {
   "cell_type": "code",
   "execution_count": 36,
   "id": "3fff572e-9d65-4ae5-89ff-81d2df064f0f",
   "metadata": {},
   "outputs": [
    {
     "data": {
      "text/html": [
       "<div>\n",
       "<style scoped>\n",
       "    .dataframe tbody tr th:only-of-type {\n",
       "        vertical-align: middle;\n",
       "    }\n",
       "\n",
       "    .dataframe tbody tr th {\n",
       "        vertical-align: top;\n",
       "    }\n",
       "\n",
       "    .dataframe thead th {\n",
       "        text-align: right;\n",
       "    }\n",
       "</style>\n",
       "<table border=\"1\" class=\"dataframe\">\n",
       "  <thead>\n",
       "    <tr style=\"text-align: right;\">\n",
       "      <th></th>\n",
       "      <th>index</th>\n",
       "      <th>Sales</th>\n",
       "    </tr>\n",
       "  </thead>\n",
       "  <tbody>\n",
       "    <tr>\n",
       "      <th>0</th>\n",
       "      <td>coffee</td>\n",
       "      <td>0</td>\n",
       "    </tr>\n",
       "    <tr>\n",
       "      <th>1</th>\n",
       "      <td>coffee</td>\n",
       "      <td>5</td>\n",
       "    </tr>\n",
       "    <tr>\n",
       "      <th>2</th>\n",
       "      <td>tea</td>\n",
       "      <td>155</td>\n",
       "    </tr>\n",
       "    <tr>\n",
       "      <th>3</th>\n",
       "      <td>coconut</td>\n",
       "      <td>0</td>\n",
       "    </tr>\n",
       "    <tr>\n",
       "      <th>4</th>\n",
       "      <td>sugar</td>\n",
       "      <td>518</td>\n",
       "    </tr>\n",
       "  </tbody>\n",
       "</table>\n",
       "</div>"
      ],
      "text/plain": [
       "     index  Sales\n",
       "0   coffee      0\n",
       "1   coffee      5\n",
       "2      tea    155\n",
       "3  coconut      0\n",
       "4    sugar    518"
      ]
     },
     "execution_count": 36,
     "metadata": {},
     "output_type": "execute_result"
    }
   ],
   "source": [
    "sales_items.reset_index()"
   ]
  },
  {
   "cell_type": "code",
   "execution_count": 37,
   "id": "0c2298da-c507-47e1-bee1-a39429a73550",
   "metadata": {},
   "outputs": [
    {
     "data": {
      "text/plain": [
       "0      0\n",
       "1      5\n",
       "2    155\n",
       "3      0\n",
       "4    518\n",
       "Name: Sales, dtype: int64"
      ]
     },
     "execution_count": 37,
     "metadata": {},
     "output_type": "execute_result"
    }
   ],
   "source": [
    "sales_items.reset_index(drop=True)"
   ]
  },
  {
   "cell_type": "code",
   "execution_count": 91,
   "id": "ca1f454e-0144-4d86-a181-de52674261a3",
   "metadata": {},
   "outputs": [
    {
     "data": {
      "text/html": [
       "<div>\n",
       "<style scoped>\n",
       "    .dataframe tbody tr th:only-of-type {\n",
       "        vertical-align: middle;\n",
       "    }\n",
       "\n",
       "    .dataframe tbody tr th {\n",
       "        vertical-align: top;\n",
       "    }\n",
       "\n",
       "    .dataframe thead th {\n",
       "        text-align: right;\n",
       "    }\n",
       "</style>\n",
       "<table border=\"1\" class=\"dataframe\">\n",
       "  <thead>\n",
       "    <tr style=\"text-align: right;\">\n",
       "      <th></th>\n",
       "      <th>date</th>\n",
       "      <th>dcoilwtico</th>\n",
       "    </tr>\n",
       "  </thead>\n",
       "  <tbody>\n",
       "    <tr>\n",
       "      <th>1</th>\n",
       "      <td>2013-01-02</td>\n",
       "      <td>93.14</td>\n",
       "    </tr>\n",
       "    <tr>\n",
       "      <th>2</th>\n",
       "      <td>2013-01-03</td>\n",
       "      <td>92.97</td>\n",
       "    </tr>\n",
       "    <tr>\n",
       "      <th>3</th>\n",
       "      <td>2013-01-04</td>\n",
       "      <td>93.12</td>\n",
       "    </tr>\n",
       "    <tr>\n",
       "      <th>4</th>\n",
       "      <td>2013-01-07</td>\n",
       "      <td>93.20</td>\n",
       "    </tr>\n",
       "    <tr>\n",
       "      <th>5</th>\n",
       "      <td>2013-01-08</td>\n",
       "      <td>93.21</td>\n",
       "    </tr>\n",
       "    <tr>\n",
       "      <th>...</th>\n",
       "      <td>...</td>\n",
       "      <td>...</td>\n",
       "    </tr>\n",
       "    <tr>\n",
       "      <th>1213</th>\n",
       "      <td>2017-08-25</td>\n",
       "      <td>47.65</td>\n",
       "    </tr>\n",
       "    <tr>\n",
       "      <th>1214</th>\n",
       "      <td>2017-08-28</td>\n",
       "      <td>46.40</td>\n",
       "    </tr>\n",
       "    <tr>\n",
       "      <th>1215</th>\n",
       "      <td>2017-08-29</td>\n",
       "      <td>46.46</td>\n",
       "    </tr>\n",
       "    <tr>\n",
       "      <th>1216</th>\n",
       "      <td>2017-08-30</td>\n",
       "      <td>45.96</td>\n",
       "    </tr>\n",
       "    <tr>\n",
       "      <th>1217</th>\n",
       "      <td>2017-08-31</td>\n",
       "      <td>47.26</td>\n",
       "    </tr>\n",
       "  </tbody>\n",
       "</table>\n",
       "<p>1175 rows × 2 columns</p>\n",
       "</div>"
      ],
      "text/plain": [
       "            date  dcoilwtico\n",
       "1     2013-01-02       93.14\n",
       "2     2013-01-03       92.97\n",
       "3     2013-01-04       93.12\n",
       "4     2013-01-07       93.20\n",
       "5     2013-01-08       93.21\n",
       "...          ...         ...\n",
       "1213  2017-08-25       47.65\n",
       "1214  2017-08-28       46.40\n",
       "1215  2017-08-29       46.46\n",
       "1216  2017-08-30       45.96\n",
       "1217  2017-08-31       47.26\n",
       "\n",
       "[1175 rows x 2 columns]"
      ]
     },
     "execution_count": 91,
     "metadata": {},
     "output_type": "execute_result"
    }
   ],
   "source": [
    "oil"
   ]
  },
  {
   "cell_type": "markdown",
   "id": "47a91b60-cef4-47f6-9b50-dbd289b4de77",
   "metadata": {},
   "source": [
    "# Assignment 2: Accessing Series Data\n",
    "Set the date series, which has been created below, to be the index of the oil price series created in assignment 1.\n",
    "\n",
    "Then, take the mean of the first 10 and last 10 prices of the series.\n",
    "\n",
    "Finally, grab all oil prices from January 1st, 2017 - January 7th, 2017 (inclusive) and set the index to the default integer index.\n",
    "### create a DataFrame from the oil file, drop missing values\n",
    "oil = pd.read_csv(\"./oil.csv\").dropna()\n",
    "oil"
   ]
  },
  {
   "cell_type": "code",
   "execution_count": 148,
   "id": "b936c965-f4f7-4827-aa47-ea97d4dcb163",
   "metadata": {},
   "outputs": [
    {
     "data": {
      "text/plain": [
       "1035    2016-12-20\n",
       "1036    2016-12-21\n",
       "1037    2016-12-22\n",
       "1038    2016-12-23\n",
       "1040    2016-12-27\n",
       "           ...    \n",
       "1135    2017-05-09\n",
       "1136    2017-05-10\n",
       "1137    2017-05-11\n",
       "1138    2017-05-12\n",
       "1139    2017-05-15\n",
       "Name: date, Length: 100, dtype: object"
      ]
     },
     "execution_count": 148,
     "metadata": {},
     "output_type": "execute_result"
    }
   ],
   "source": [
    "oil_dates = pd.Series(oil['date'].iloc[1000:1100])\n",
    "oil_dates"
   ]
  },
  {
   "cell_type": "code",
   "execution_count": 149,
   "id": "f186f330-9417-4933-944b-5deb09b24278",
   "metadata": {},
   "outputs": [
    {
     "data": {
      "text/plain": [
       "date\n",
       "2016-12-20    52.22\n",
       "2016-12-21    51.44\n",
       "2016-12-22    51.98\n",
       "2016-12-23    52.01\n",
       "2016-12-27    52.82\n",
       "              ...  \n",
       "2017-05-09    45.84\n",
       "2017-05-10    47.28\n",
       "2017-05-11    47.81\n",
       "2017-05-12    47.83\n",
       "2017-05-15    48.86\n",
       "Name: oil_prieces, Length: 100, dtype: float64"
      ]
     },
     "execution_count": 149,
     "metadata": {},
     "output_type": "execute_result"
    }
   ],
   "source": [
    "oil_series.index = oil_dates\n",
    "oil_series"
   ]
  },
  {
   "cell_type": "code",
   "execution_count": 55,
   "id": "437416bb-71fd-491a-8676-9fa0aaea96f3",
   "metadata": {},
   "outputs": [
    {
     "data": {
      "text/plain": [
       "52.765"
      ]
     },
     "execution_count": 55,
     "metadata": {},
     "output_type": "execute_result"
    }
   ],
   "source": [
    "oil_series.iloc[:10].mean()"
   ]
  },
  {
   "cell_type": "code",
   "execution_count": 57,
   "id": "0bb44710-9f96-4099-8f38-7356248b350f",
   "metadata": {},
   "outputs": [
    {
     "data": {
      "text/plain": [
       "47.13"
      ]
     },
     "execution_count": 57,
     "metadata": {},
     "output_type": "execute_result"
    }
   ],
   "source": [
    "oil_series.iloc[-10:].mean()"
   ]
  },
  {
   "cell_type": "code",
   "execution_count": 58,
   "id": "86e325ba-362a-49b6-9d01-594361095454",
   "metadata": {},
   "outputs": [
    {
     "data": {
      "text/plain": [
       "date\n",
       "2017-01-03    52.36\n",
       "2017-01-04    53.26\n",
       "2017-01-05    53.77\n",
       "2017-01-06    53.98\n",
       "Name: oil_prieces, dtype: float64"
      ]
     },
     "execution_count": 58,
     "metadata": {},
     "output_type": "execute_result"
    }
   ],
   "source": [
    "oil_selection = oil_series.loc['2017-01-01':'2017-01-07']\n",
    "oil_selection"
   ]
  },
  {
   "cell_type": "code",
   "execution_count": 59,
   "id": "9e5bc5b9-95d1-4791-8e44-70de6615ab32",
   "metadata": {},
   "outputs": [
    {
     "data": {
      "text/plain": [
       "0    52.36\n",
       "1    53.26\n",
       "2    53.77\n",
       "3    53.98\n",
       "Name: oil_prieces, dtype: float64"
      ]
     },
     "execution_count": 59,
     "metadata": {},
     "output_type": "execute_result"
    }
   ],
   "source": [
    "oil_selection.reset_index(drop=True)"
   ]
  },
  {
   "cell_type": "markdown",
   "id": "08219fd1-8824-4afa-b1b9-164387850888",
   "metadata": {},
   "source": [
    "### FILTERING SERIES"
   ]
  },
  {
   "cell_type": "code",
   "execution_count": 62,
   "id": "35329f74-315e-4316-92f1-cd8ed8c7857f",
   "metadata": {},
   "outputs": [
    {
     "data": {
      "text/plain": [
       "0      0\n",
       "1      5\n",
       "2    155\n",
       "3      0\n",
       "4    518\n",
       "Name: Sales, dtype: int64"
      ]
     },
     "execution_count": 62,
     "metadata": {},
     "output_type": "execute_result"
    }
   ],
   "source": [
    "sales_series = sales_series[:5]\n",
    "sales_series"
   ]
  },
  {
   "cell_type": "code",
   "execution_count": 63,
   "id": "b3d1d703-0008-496d-8160-ef05a5769969",
   "metadata": {},
   "outputs": [
    {
     "data": {
      "text/plain": [
       "1      5\n",
       "2    155\n",
       "4    518\n",
       "Name: Sales, dtype: int64"
      ]
     },
     "execution_count": 63,
     "metadata": {},
     "output_type": "execute_result"
    }
   ],
   "source": [
    "sales_series.loc[sales_series > 0 ]"
   ]
  },
  {
   "cell_type": "code",
   "execution_count": 64,
   "id": "54a2f40b-9a67-4355-b77b-4e1cd5e6630a",
   "metadata": {},
   "outputs": [
    {
     "data": {
      "text/plain": [
       "0    False\n",
       "1     True\n",
       "2     True\n",
       "3    False\n",
       "4     True\n",
       "Name: Sales, dtype: bool"
      ]
     },
     "execution_count": 64,
     "metadata": {},
     "output_type": "execute_result"
    }
   ],
   "source": [
    "sales_series > 0"
   ]
  },
  {
   "cell_type": "code",
   "execution_count": 67,
   "id": "c7001c67-0040-4e3e-b168-32dd61f630ed",
   "metadata": {},
   "outputs": [
    {
     "data": {
      "text/plain": [
       "coffee    5\n",
       "Name: Sales, dtype: int64"
      ]
     },
     "execution_count": 67,
     "metadata": {},
     "output_type": "execute_result"
    }
   ],
   "source": [
    "sales_series.index = items\n",
    "mask = (sales_series > 0) & (sales_series.index == 'coffee')\n",
    "sales_series.loc[mask]"
   ]
  },
  {
   "cell_type": "code",
   "execution_count": 68,
   "id": "f1730c59-f997-4861-a15a-5fd75c13d3d9",
   "metadata": {},
   "outputs": [
    {
     "data": {
      "text/plain": [
       "coffee     False\n",
       "coffee      True\n",
       "tea        False\n",
       "coconut    False\n",
       "sugar      False\n",
       "Name: Sales, dtype: bool"
      ]
     },
     "execution_count": 68,
     "metadata": {},
     "output_type": "execute_result"
    }
   ],
   "source": [
    "sales_series == 5"
   ]
  },
  {
   "cell_type": "code",
   "execution_count": 69,
   "id": "ae021a76-3a64-44eb-9992-e2d945724623",
   "metadata": {},
   "outputs": [
    {
     "data": {
      "text/plain": [
       "coffee     False\n",
       "coffee      True\n",
       "tea        False\n",
       "coconut    False\n",
       "sugar      False\n",
       "Name: Sales, dtype: bool"
      ]
     },
     "execution_count": 69,
     "metadata": {},
     "output_type": "execute_result"
    }
   ],
   "source": [
    "sales_series.eq(5)"
   ]
  },
  {
   "cell_type": "code",
   "execution_count": 70,
   "id": "6a5f6b53-5a97-48d3-95e8-2f90fc01162d",
   "metadata": {},
   "outputs": [
    {
     "data": {
      "text/plain": [
       "array([ True,  True,  True, False, False])"
      ]
     },
     "execution_count": 70,
     "metadata": {},
     "output_type": "execute_result"
    }
   ],
   "source": [
    "sales_series.index.isin(['coffee','tea'])"
   ]
  },
  {
   "cell_type": "markdown",
   "id": "d5195824-7b84-4a96-a0be-f8c8318b8e4c",
   "metadata": {},
   "source": [
    "## SORTING SERIES"
   ]
  },
  {
   "cell_type": "markdown",
   "id": "ba16c7ff-6134-40d9-8edf-16f3b235464a",
   "metadata": {},
   "source": [
    "sales_series.sort_values(ascending=False)"
   ]
  },
  {
   "cell_type": "code",
   "execution_count": 74,
   "id": "003047e0-66e4-479b-8097-77b11348d13a",
   "metadata": {},
   "outputs": [
    {
     "data": {
      "text/plain": [
       "coconut      0\n",
       "coffee       0\n",
       "coffee       5\n",
       "sugar      518\n",
       "tea        155\n",
       "Name: Sales, dtype: int64"
      ]
     },
     "execution_count": 74,
     "metadata": {},
     "output_type": "execute_result"
    }
   ],
   "source": [
    "sales_series.sort_index(ascending=True)"
   ]
  },
  {
   "cell_type": "markdown",
   "id": "927e7b37-260f-4ccb-b9e4-2a1612d4ee32",
   "metadata": {},
   "source": [
    "# Assignment 3: Sorting and Filtering Series\n",
    "\n",
    "* First, get the 10 lowest prices from the data. \n",
    "* Sort the 10 lowest prices by date, starting with the most recent and ending with the oldest price.\n",
    "\n",
    "* Finally, use the list of provided dates. Select only rows with these dates that had a price of less than 50 dollars per barrel.\n",
    "### list of dates to be used to solve bullet 3\n",
    "\n",
    "dates = [\n",
    "    \"2016-12-22\",\n",
    "    \"2017-05-03\",\n",
    "    \"2017-01-06\",\n",
    "    \"2017-03-05\",\n",
    "    \"2017-02-12\",\n",
    "    \"2017-03-21\",\n",
    "    \"2017-04-14\",\n",
    "    \"2017-04-15\",\n",
    "]"
   ]
  },
  {
   "cell_type": "code",
   "execution_count": 80,
   "id": "57e8e84b-c1e2-4d6e-9ee5-8da26217f2b4",
   "metadata": {},
   "outputs": [
    {
     "data": {
      "text/plain": [
       "date\n",
       "2017-05-04    45.55\n",
       "2017-05-09    45.84\n",
       "2017-05-05    46.23\n",
       "2017-05-08    46.46\n",
       "2017-03-23    47.00\n",
       "2017-03-21    47.02\n",
       "2017-03-27    47.02\n",
       "2017-03-14    47.24\n",
       "2017-05-10    47.28\n",
       "2017-03-22    47.29\n",
       "Name: oil_prieces, dtype: float64"
      ]
     },
     "execution_count": 80,
     "metadata": {},
     "output_type": "execute_result"
    }
   ],
   "source": [
    "oil_sorted = oil_series.sort_values(ascending=True).iloc[:10]\n",
    "oil_sorted"
   ]
  },
  {
   "cell_type": "code",
   "execution_count": 84,
   "id": "815b799f-1304-40f2-9b59-3682ffa4bff3",
   "metadata": {},
   "outputs": [
    {
     "data": {
      "text/plain": [
       "date\n",
       "2017-05-10    47.28\n",
       "2017-05-09    45.84\n",
       "2017-05-08    46.46\n",
       "2017-05-05    46.23\n",
       "2017-05-04    45.55\n",
       "2017-03-27    47.02\n",
       "2017-03-23    47.00\n",
       "2017-03-22    47.29\n",
       "2017-03-21    47.02\n",
       "2017-03-14    47.24\n",
       "Name: oil_prieces, dtype: float64"
      ]
     },
     "execution_count": 84,
     "metadata": {},
     "output_type": "execute_result"
    }
   ],
   "source": [
    "oil_sorted = oil_sorted.sort_index(ascending=False)\n",
    "oil_sorted"
   ]
  },
  {
   "cell_type": "code",
   "execution_count": 92,
   "id": "6964c9eb-106f-4211-b54b-d0656e182006",
   "metadata": {},
   "outputs": [
    {
     "data": {
      "text/plain": [
       "date\n",
       "2017-03-21    47.02\n",
       "Name: oil_prieces, dtype: float64"
      ]
     },
     "execution_count": 92,
     "metadata": {},
     "output_type": "execute_result"
    }
   ],
   "source": [
    "dates = [\n",
    "    \"2016-12-22\",\n",
    "    \"2017-05-03\",\n",
    "    \"2017-01-06\",\n",
    "    \"2017-03-05\",\n",
    "    \"2017-02-12\",\n",
    "    \"2017-03-21\",\n",
    "    \"2017-04-14\",\n",
    "    \"2017-04-15\",\n",
    "]\n",
    "mask = (oil_sorted < 50) & (oil_sorted.index.isin(dates))\n",
    "oil_sorted.loc[mask]"
   ]
  },
  {
   "cell_type": "markdown",
   "id": "8072b7f1-52d9-4694-ac3f-446e6646ffae",
   "metadata": {},
   "source": [
    "## Arithmetic operators and methods"
   ]
  },
  {
   "cell_type": "code",
   "execution_count": 93,
   "id": "b6da8a98-3cf4-41f0-90cb-9c14877fccd2",
   "metadata": {},
   "outputs": [
    {
     "data": {
      "text/plain": [
       "coffee       2\n",
       "coffee       7\n",
       "tea        157\n",
       "coconut      2\n",
       "sugar      520\n",
       "Name: Sales, dtype: int64"
      ]
     },
     "execution_count": 93,
     "metadata": {},
     "output_type": "execute_result"
    }
   ],
   "source": [
    "sales_series + 2"
   ]
  },
  {
   "cell_type": "code",
   "execution_count": 94,
   "id": "baecd4c7-75c4-494d-92c9-8f3bb75de466",
   "metadata": {},
   "outputs": [
    {
     "data": {
      "text/plain": [
       "coffee       2\n",
       "coffee       7\n",
       "tea        157\n",
       "coconut      2\n",
       "sugar      520\n",
       "Name: Sales, dtype: int64"
      ]
     },
     "execution_count": 94,
     "metadata": {},
     "output_type": "execute_result"
    }
   ],
   "source": [
    "sales_series.add(2)"
   ]
  },
  {
   "cell_type": "code",
   "execution_count": 95,
   "id": "41d4e03f-f8bf-4581-9a8b-ef849928e808",
   "metadata": {},
   "outputs": [
    {
     "data": {
      "text/plain": [
       "coffee        0\n",
       "coffee       10\n",
       "tea         310\n",
       "coconut       0\n",
       "sugar      1036\n",
       "Name: Sales, dtype: int64"
      ]
     },
     "execution_count": 95,
     "metadata": {},
     "output_type": "execute_result"
    }
   ],
   "source": [
    "sales_series.mul(2)"
   ]
  },
  {
   "cell_type": "code",
   "execution_count": 97,
   "id": "4978e379-4e03-4cdc-996c-a533f12e1da6",
   "metadata": {},
   "outputs": [
    {
     "data": {
      "text/plain": [
       "coffee       $0\n",
       "coffee       $5\n",
       "tea        $155\n",
       "coconut      $0\n",
       "sugar      $518\n",
       "Name: Sales, dtype: string"
      ]
     },
     "execution_count": 97,
     "metadata": {},
     "output_type": "execute_result"
    }
   ],
   "source": [
    "dollar_sales_series = '$' + sales_series.astype('string')\n",
    "dollar_sales_series"
   ]
  },
  {
   "cell_type": "code",
   "execution_count": 99,
   "id": "2d3dc6a8-a9a8-4846-b2fe-433905654eeb",
   "metadata": {},
   "outputs": [
    {
     "data": {
      "text/plain": [
       "coffee       0.0\n",
       "coffee       5.0\n",
       "tea        155.0\n",
       "coconut      0.0\n",
       "sugar      518.0\n",
       "Name: Sales, dtype: float64"
      ]
     },
     "execution_count": 99,
     "metadata": {},
     "output_type": "execute_result"
    }
   ],
   "source": [
    "dollar_sales_series.str.strip('$').astype('float')"
   ]
  },
  {
   "cell_type": "markdown",
   "id": "9b5acdd3-bfbd-442f-b80c-ea9c891b6874",
   "metadata": {},
   "source": [
    "# Assignment 4: Series Operations\n",
    "\n",
    "* Increase the prices in the oil series by 10%, and add an additional 2 dollars per barrel on top of that.\n",
    "\n",
    "* Then, create a series that represents the difference between each price and max price.\n",
    "\n",
    "* Finally, extract the month from the string dates in the index and store them as an integer in their own series."
   ]
  },
  {
   "cell_type": "code",
   "execution_count": 110,
   "id": "d1b4d5c2-dbf1-403c-b5ac-65899da08c58",
   "metadata": {},
   "outputs": [
    {
     "data": {
      "text/plain": [
       "date\n",
       "2016-12-20    59.442\n",
       "2016-12-21    58.584\n",
       "2016-12-22    59.178\n",
       "2016-12-23    59.211\n",
       "2016-12-27    60.102\n",
       "               ...  \n",
       "2017-05-09    52.424\n",
       "2017-05-10    54.008\n",
       "2017-05-11    54.591\n",
       "2017-05-12    54.613\n",
       "2017-05-15    55.746\n",
       "Name: oil_prieces, Length: 100, dtype: float64"
      ]
     },
     "execution_count": 110,
     "metadata": {},
     "output_type": "execute_result"
    }
   ],
   "source": [
    "oil_increased = oil_series * 1.1 + 2\n",
    "oil_increased"
   ]
  },
  {
   "cell_type": "code",
   "execution_count": 111,
   "id": "3ec2b319-b3a1-4757-a25b-0eeb463e5b83",
   "metadata": {},
   "outputs": [
    {
     "data": {
      "text/plain": [
       "61.928000000000004"
      ]
     },
     "execution_count": 111,
     "metadata": {},
     "output_type": "execute_result"
    }
   ],
   "source": [
    "max_price = oil_increased.max()\n",
    "max_price"
   ]
  },
  {
   "cell_type": "code",
   "execution_count": 113,
   "id": "fdc2f6c8-d34b-4703-9da5-ced9e0b25385",
   "metadata": {},
   "outputs": [
    {
     "data": {
      "text/plain": [
       "date\n",
       "2016-12-20   -0.040143\n",
       "2016-12-21   -0.053998\n",
       "2016-12-22   -0.044406\n",
       "2016-12-23   -0.043874\n",
       "2016-12-27   -0.029486\n",
       "                ...   \n",
       "2017-05-09   -0.153469\n",
       "2017-05-10   -0.127890\n",
       "2017-05-11   -0.118476\n",
       "2017-05-12   -0.118121\n",
       "2017-05-15   -0.099826\n",
       "Name: oil_prieces, Length: 100, dtype: float64"
      ]
     },
     "execution_count": 113,
     "metadata": {},
     "output_type": "execute_result"
    }
   ],
   "source": [
    "oil_diff = (oil_increased - max_price) / max_price\n",
    "oil_diff"
   ]
  },
  {
   "cell_type": "code",
   "execution_count": 133,
   "id": "2a5cf7c3-f49b-492d-a060-61a5793f8a69",
   "metadata": {},
   "outputs": [
    {
     "data": {
      "text/plain": [
       "0     2016-12-20\n",
       "1     2016-12-21\n",
       "2     2016-12-22\n",
       "3     2016-12-23\n",
       "4     2016-12-27\n",
       "         ...    \n",
       "95    2017-05-09\n",
       "96    2017-05-10\n",
       "97    2017-05-11\n",
       "98    2017-05-12\n",
       "99    2017-05-15\n",
       "Name: date, Length: 100, dtype: object"
      ]
     },
     "execution_count": 133,
     "metadata": {},
     "output_type": "execute_result"
    }
   ],
   "source": [
    "dates = pd.Series(oil_series.index)\n",
    "dates"
   ]
  },
  {
   "cell_type": "code",
   "execution_count": 134,
   "id": "548ae19e-9046-49bc-b497-fb3881c89395",
   "metadata": {},
   "outputs": [
    {
     "data": {
      "text/plain": [
       "0     12\n",
       "1     12\n",
       "2     12\n",
       "3     12\n",
       "4     12\n",
       "      ..\n",
       "95     5\n",
       "96     5\n",
       "97     5\n",
       "98     5\n",
       "99     5\n",
       "Name: date, Length: 100, dtype: int64"
      ]
     },
     "execution_count": 134,
     "metadata": {},
     "output_type": "execute_result"
    }
   ],
   "source": [
    "months = dates.str[5:7].astype('int')\n",
    "months"
   ]
  },
  {
   "cell_type": "markdown",
   "id": "f9a77158-38cb-4b87-bb30-6c9503b7114d",
   "metadata": {},
   "source": [
    "## NUMERIC SERIES AGGREGATION"
   ]
  },
  {
   "cell_type": "code",
   "execution_count": 117,
   "id": "68371754-b949-4b6a-8215-3db1a6c96768",
   "metadata": {},
   "outputs": [
    {
     "data": {
      "text/plain": [
       "5112.83"
      ]
     },
     "execution_count": 117,
     "metadata": {},
     "output_type": "execute_result"
    }
   ],
   "source": [
    "oil_series.sum()"
   ]
  },
  {
   "cell_type": "code",
   "execution_count": 118,
   "id": "5b137abb-8592-411a-b77e-bbb1064f9f06",
   "metadata": {},
   "outputs": [
    {
     "data": {
      "text/plain": [
       "678"
      ]
     },
     "execution_count": 118,
     "metadata": {},
     "output_type": "execute_result"
    }
   ],
   "source": [
    "sales_series.sum()"
   ]
  },
  {
   "cell_type": "code",
   "execution_count": 119,
   "id": "94b3f6f7-59d5-474f-a92e-a94ad51db9e5",
   "metadata": {},
   "outputs": [
    {
     "data": {
      "text/plain": [
       "5"
      ]
     },
     "execution_count": 119,
     "metadata": {},
     "output_type": "execute_result"
    }
   ],
   "source": [
    "sales_series.loc['coffee'].sum()"
   ]
  },
  {
   "cell_type": "code",
   "execution_count": 120,
   "id": "c3684fd1-490b-47ea-8b67-4a1a95dd6d85",
   "metadata": {},
   "outputs": [
    {
     "data": {
      "text/plain": [
       "135.6"
      ]
     },
     "execution_count": 120,
     "metadata": {},
     "output_type": "execute_result"
    }
   ],
   "source": [
    "sales_series.mean()"
   ]
  },
  {
   "cell_type": "code",
   "execution_count": 121,
   "id": "7822e81d-b5ac-44e7-839b-3c24ac5cbc6f",
   "metadata": {},
   "outputs": [
    {
     "data": {
      "text/plain": [
       "223.8510665598893"
      ]
     },
     "execution_count": 121,
     "metadata": {},
     "output_type": "execute_result"
    }
   ],
   "source": [
    "sales_series.std()"
   ]
  },
  {
   "cell_type": "markdown",
   "id": "6b025c7e-8393-44d2-a342-499ceef45b13",
   "metadata": {},
   "source": [
    "# CATEGORICAL SERIES AGGREGATION"
   ]
  },
  {
   "cell_type": "code",
   "execution_count": 122,
   "id": "d3fa9824-19de-41c8-9381-c1d60b126932",
   "metadata": {},
   "outputs": [
    {
     "data": {
      "text/plain": [
       "coffee       0\n",
       "coffee       5\n",
       "tea        155\n",
       "coconut      0\n",
       "sugar      518\n",
       "Name: Sales, dtype: int64"
      ]
     },
     "execution_count": 122,
     "metadata": {},
     "output_type": "execute_result"
    }
   ],
   "source": [
    "sales_series"
   ]
  },
  {
   "cell_type": "code",
   "execution_count": 123,
   "id": "1e9a048d-3b61-49df-9f9f-09bb34bcd4af",
   "metadata": {},
   "outputs": [
    {
     "data": {
      "text/plain": [
       "array([  0,   5, 155, 518])"
      ]
     },
     "execution_count": 123,
     "metadata": {},
     "output_type": "execute_result"
    }
   ],
   "source": [
    "sales_series.unique()"
   ]
  },
  {
   "cell_type": "code",
   "execution_count": 124,
   "id": "d0564c2f-883f-41fb-9552-2cce6d709d6d",
   "metadata": {},
   "outputs": [
    {
     "data": {
      "text/plain": [
       "4"
      ]
     },
     "execution_count": 124,
     "metadata": {},
     "output_type": "execute_result"
    }
   ],
   "source": [
    "sales_series.nunique()"
   ]
  },
  {
   "cell_type": "code",
   "execution_count": 137,
   "id": "191836bc-c352-47fa-a7e2-9b58f1643604",
   "metadata": {},
   "outputs": [
    {
     "data": {
      "text/plain": [
       "date\n",
       "12    59.442\n",
       "12    58.584\n",
       "12    59.178\n",
       "12    59.211\n",
       "12    60.102\n",
       "       ...  \n",
       "5     52.424\n",
       "5     54.008\n",
       "5     54.591\n",
       "5     54.613\n",
       "5     55.746\n",
       "Name: oil_prieces, Length: 100, dtype: float64"
      ]
     },
     "execution_count": 137,
     "metadata": {},
     "output_type": "execute_result"
    }
   ],
   "source": [
    "oil_increased.index = months\n",
    "oil_increased"
   ]
  },
  {
   "cell_type": "code",
   "execution_count": 140,
   "id": "1bb8afd7-4904-4b33-b75e-f440c0b846a0",
   "metadata": {},
   "outputs": [
    {
     "data": {
      "text/plain": [
       "1293.994"
      ]
     },
     "execution_count": 140,
     "metadata": {},
     "output_type": "execute_result"
    }
   ],
   "source": [
    "oil_increased.loc[3].sum()"
   ]
  },
  {
   "cell_type": "code",
   "execution_count": 151,
   "id": "8d350db0-9ff5-49af-b986-2d21028c6f41",
   "metadata": {},
   "outputs": [
    {
     "data": {
      "text/plain": [
       "20"
      ]
     },
     "execution_count": 151,
     "metadata": {},
     "output_type": "execute_result"
    }
   ],
   "source": [
    "oil_increased.loc[1].count()"
   ]
  },
  {
   "cell_type": "code",
   "execution_count": 150,
   "id": "e631f517-7677-4fc5-8c67-6510d05a4bf2",
   "metadata": {},
   "outputs": [
    {
     "data": {
      "text/plain": [
       "19"
      ]
     },
     "execution_count": 150,
     "metadata": {},
     "output_type": "execute_result"
    }
   ],
   "source": [
    "oil_increased.loc[2].count()"
   ]
  },
  {
   "cell_type": "code",
   "execution_count": 152,
   "id": "8de808dc-b3bd-451c-bf2c-de361b4e1aa2",
   "metadata": {},
   "outputs": [
    {
     "data": {
      "text/plain": [
       "oil_prieces\n",
       "60    0.22\n",
       "59    0.19\n",
       "61    0.14\n",
       "54    0.10\n",
       "55    0.09\n",
       "58    0.06\n",
       "57    0.06\n",
       "56    0.06\n",
       "53    0.05\n",
       "52    0.03\n",
       "Name: proportion, dtype: float64"
      ]
     },
     "execution_count": 152,
     "metadata": {},
     "output_type": "execute_result"
    }
   ],
   "source": [
    "oil_increased.astype('int').value_counts(normalize=True)"
   ]
  },
  {
   "cell_type": "markdown",
   "id": "e686ee41-3653-4738-a707-778c583b16b6",
   "metadata": {},
   "source": [
    "## MISSING DATA"
   ]
  },
  {
   "cell_type": "code",
   "execution_count": 165,
   "id": "09b209ec-ceff-45ee-93e2-58722c6960d8",
   "metadata": {},
   "outputs": [
    {
     "data": {
      "text/plain": [
       "0      0.0\n",
       "1      5.0\n",
       "2    155.0\n",
       "3      NaN\n",
       "4    518.0\n",
       "dtype: float64"
      ]
     },
     "execution_count": 165,
     "metadata": {},
     "output_type": "execute_result"
    }
   ],
   "source": [
    "sales = [0, 5, 155, np.nan, 518]\n",
    "my_sales = pd.Series(sales)\n",
    "my_sales"
   ]
  },
  {
   "cell_type": "code",
   "execution_count": 167,
   "id": "e35bd515-05f7-49e7-b5af-26f314a804e4",
   "metadata": {},
   "outputs": [
    {
     "data": {
      "text/plain": [
       "0      2.0\n",
       "1      7.0\n",
       "2    157.0\n",
       "3      2.0\n",
       "4    520.0\n",
       "dtype: float64"
      ]
     },
     "execution_count": 167,
     "metadata": {},
     "output_type": "execute_result"
    }
   ],
   "source": [
    "my_sales.add(2, fill_value=0)"
   ]
  },
  {
   "cell_type": "markdown",
   "id": "ba8b9148-51cf-4e04-ae55-d8f1c955f53e",
   "metadata": {},
   "source": [
    "### Pandas released its own missing data type NA in 2020"
   ]
  },
  {
   "cell_type": "code",
   "execution_count": 177,
   "id": "e0bae47d-39ba-4efe-be31-76a647738750",
   "metadata": {},
   "outputs": [
    {
     "data": {
      "text/plain": [
       "0       0\n",
       "1       5\n",
       "2     155\n",
       "3    <NA>\n",
       "4     518\n",
       "dtype: Int16"
      ]
     },
     "execution_count": 177,
     "metadata": {},
     "output_type": "execute_result"
    }
   ],
   "source": [
    "sales = [0, 5, 155, pd.NA, 518]\n",
    "my_sales = pd.Series(sales, dtype='Int16')\n",
    "my_sales"
   ]
  },
  {
   "cell_type": "code",
   "execution_count": 178,
   "id": "07a411df-a927-4188-a691-c271e443896a",
   "metadata": {},
   "outputs": [
    {
     "data": {
      "text/plain": [
       "0    False\n",
       "1    False\n",
       "2    False\n",
       "3     True\n",
       "4    False\n",
       "dtype: bool"
      ]
     },
     "execution_count": 178,
     "metadata": {},
     "output_type": "execute_result"
    }
   ],
   "source": [
    "my_sales.isna()"
   ]
  },
  {
   "cell_type": "code",
   "execution_count": 171,
   "id": "49251df1-748d-4a1a-8a17-9f54fddb7e21",
   "metadata": {},
   "outputs": [
    {
     "data": {
      "text/plain": [
       "1"
      ]
     },
     "execution_count": 171,
     "metadata": {},
     "output_type": "execute_result"
    }
   ],
   "source": [
    "my_sales.isna().sum()"
   ]
  },
  {
   "cell_type": "code",
   "execution_count": 184,
   "id": "eee0b8f7-a641-42ad-86c0-c01d90c08197",
   "metadata": {},
   "outputs": [
    {
     "data": {
      "text/plain": [
       "0      1\n",
       "5      1\n",
       "155    1\n",
       "518    1\n",
       "Name: count, dtype: Int64"
      ]
     },
     "execution_count": 184,
     "metadata": {},
     "output_type": "execute_result"
    }
   ],
   "source": [
    "my_sales.value_counts()"
   ]
  },
  {
   "cell_type": "code",
   "execution_count": 179,
   "id": "abed6912-603c-4ada-9215-692a1818472e",
   "metadata": {},
   "outputs": [
    {
     "data": {
      "text/plain": [
       "0       1\n",
       "5       1\n",
       "155     1\n",
       "518     1\n",
       "<NA>    1\n",
       "Name: count, dtype: Int64"
      ]
     },
     "execution_count": 179,
     "metadata": {},
     "output_type": "execute_result"
    }
   ],
   "source": [
    "my_sales.value_counts(dropna=False)"
   ]
  },
  {
   "cell_type": "code",
   "execution_count": 174,
   "id": "5f1544e0-3d1d-466e-aecb-4cdff81f7f07",
   "metadata": {},
   "outputs": [
    {
     "data": {
      "text/plain": [
       "0      0\n",
       "1      5\n",
       "2    155\n",
       "4    518\n",
       "dtype: Int16"
      ]
     },
     "execution_count": 174,
     "metadata": {},
     "output_type": "execute_result"
    }
   ],
   "source": [
    "my_sales.dropna()"
   ]
  },
  {
   "cell_type": "code",
   "execution_count": 180,
   "id": "52c343e3-384a-4d71-866d-cece38faeac4",
   "metadata": {},
   "outputs": [
    {
     "data": {
      "text/plain": [
       "0      0\n",
       "1      5\n",
       "2    155\n",
       "3     10\n",
       "4    518\n",
       "dtype: Int16"
      ]
     },
     "execution_count": 180,
     "metadata": {},
     "output_type": "execute_result"
    }
   ],
   "source": [
    "my_sales.fillna(10)"
   ]
  },
  {
   "cell_type": "code",
   "execution_count": 185,
   "id": "b303a423-1411-4333-9a58-c9e7379bc25a",
   "metadata": {},
   "outputs": [
    {
     "data": {
      "text/plain": [
       "0      0.0\n",
       "1      5.0\n",
       "2    155.0\n",
       "3    169.5\n",
       "4    518.0\n",
       "dtype: float64"
      ]
     },
     "execution_count": 185,
     "metadata": {},
     "output_type": "execute_result"
    }
   ],
   "source": [
    "my_sales.astype('float').fillna(my_sales.mean())"
   ]
  },
  {
   "cell_type": "code",
   "execution_count": 186,
   "id": "37d4a572-7bee-48fa-b295-972c02c0bc81",
   "metadata": {},
   "outputs": [
    {
     "data": {
      "text/plain": [
       "100"
      ]
     },
     "execution_count": 186,
     "metadata": {},
     "output_type": "execute_result"
    }
   ],
   "source": [
    "oil_series.isna().count()"
   ]
  },
  {
   "cell_type": "code",
   "execution_count": 187,
   "id": "d9edc372-670d-4015-8184-cbc60783bbe8",
   "metadata": {},
   "outputs": [
    {
     "data": {
      "text/plain": [
       "date\n",
       "2016-12-20    52.22\n",
       "2016-12-21    51.44\n",
       "2016-12-22    51.98\n",
       "2016-12-23    52.01\n",
       "2016-12-27    52.82\n",
       "              ...  \n",
       "2017-05-09    45.84\n",
       "2017-05-10    47.28\n",
       "2017-05-11    47.81\n",
       "2017-05-12    47.83\n",
       "2017-05-15    48.86\n",
       "Name: oil_prieces, Length: 100, dtype: float64"
      ]
     },
     "execution_count": 187,
     "metadata": {},
     "output_type": "execute_result"
    }
   ],
   "source": [
    "oil_series.fillna(oil_series.median())"
   ]
  },
  {
   "cell_type": "markdown",
   "id": "f5053421-d46c-4aeb-927a-825c7bd9fba5",
   "metadata": {},
   "source": [
    "## Apply method"
   ]
  },
  {
   "cell_type": "code",
   "execution_count": 188,
   "id": "3aa6f8c8-3b67-4917-8b50-7b0808edda3a",
   "metadata": {},
   "outputs": [
    {
     "data": {
      "text/plain": [
       "0     3.99\n",
       "1     5.99\n",
       "2    22.99\n",
       "3     7.99\n",
       "4    33.99\n",
       "dtype: float64"
      ]
     },
     "execution_count": 188,
     "metadata": {},
     "output_type": "execute_result"
    }
   ],
   "source": [
    "clean_wholesale = pd.Series([3.99, 5.99, 22.99, 7.99, 33.99])\n",
    "clean_wholesale"
   ]
  },
  {
   "cell_type": "code",
   "execution_count": 191,
   "id": "743392b6-45a8-47e1-82e1-7ead46c72825",
   "metadata": {},
   "outputs": [],
   "source": [
    "def discount(price):\n",
    "    if price > 10:\n",
    "        return round(price * 0.9, 2)\n",
    "    return price"
   ]
  },
  {
   "cell_type": "code",
   "execution_count": 192,
   "id": "dc455867-f87e-4d3f-8b9a-83a5295a8e33",
   "metadata": {},
   "outputs": [
    {
     "data": {
      "text/plain": [
       "0     3.99\n",
       "1     5.99\n",
       "2    20.69\n",
       "3     7.99\n",
       "4    30.59\n",
       "dtype: float64"
      ]
     },
     "execution_count": 192,
     "metadata": {},
     "output_type": "execute_result"
    }
   ],
   "source": [
    "clean_wholesale.apply(discount)"
   ]
  },
  {
   "cell_type": "code",
   "execution_count": 194,
   "id": "79ec23db-701e-4ea0-ad31-38df82df89e8",
   "metadata": {},
   "outputs": [
    {
     "data": {
      "text/plain": [
       "0     3.99\n",
       "1     5.99\n",
       "2    20.69\n",
       "3     7.99\n",
       "4    30.59\n",
       "dtype: float64"
      ]
     },
     "execution_count": 194,
     "metadata": {},
     "output_type": "execute_result"
    }
   ],
   "source": [
    "# .where(logical test, value if false, inplace=False)\n",
    "clean_wholesale.where(clean_wholesale <= 20, round(clean_wholesale * 0.9, 2), inplace=False)"
   ]
  },
  {
   "cell_type": "code",
   "execution_count": 195,
   "id": "d3fc7fce-21fb-41a0-83ef-6b8872a1cd04",
   "metadata": {},
   "outputs": [
    {
     "data": {
      "text/plain": [
       "0     3.99\n",
       "1     5.99\n",
       "2    20.69\n",
       "3     7.99\n",
       "4    30.59\n",
       "dtype: float64"
      ]
     },
     "execution_count": 195,
     "metadata": {},
     "output_type": "execute_result"
    }
   ],
   "source": [
    "clean_wholesale.where(~(clean_wholesale > 20), round(clean_wholesale * 0.9, 2), inplace=False)"
   ]
  },
  {
   "cell_type": "code",
   "execution_count": 196,
   "id": "f47a9d73-ec8a-4f3c-831d-3d4748a3ead4",
   "metadata": {},
   "outputs": [
    {
     "data": {
      "text/plain": [
       "0     0.00\n",
       "1     0.00\n",
       "2    20.69\n",
       "3     0.00\n",
       "4    30.59\n",
       "dtype: float64"
      ]
     },
     "execution_count": 196,
     "metadata": {},
     "output_type": "execute_result"
    }
   ],
   "source": [
    "(\n",
    "    clean_wholesale\n",
    "    .where(~(clean_wholesale > 20), round(clean_wholesale * 0.9, 2), inplace=False)\n",
    "    .where((clean_wholesale > 10), 0)\n",
    ")"
   ]
  }
 ],
 "metadata": {
  "kernelspec": {
   "display_name": "Python 3 (ipykernel)",
   "language": "python",
   "name": "python3"
  },
  "language_info": {
   "codemirror_mode": {
    "name": "ipython",
    "version": 3
   },
   "file_extension": ".py",
   "mimetype": "text/x-python",
   "name": "python",
   "nbconvert_exporter": "python",
   "pygments_lexer": "ipython3",
   "version": "3.10.12"
  }
 },
 "nbformat": 4,
 "nbformat_minor": 5
}
