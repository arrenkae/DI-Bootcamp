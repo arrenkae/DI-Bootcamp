{
 "cells": [
  {
   "cell_type": "code",
   "execution_count": 1,
   "id": "ac6e4245-c2d1-4417-b3a5-c1371478e571",
   "metadata": {},
   "outputs": [],
   "source": [
    "import numpy as np"
   ]
  },
  {
   "cell_type": "code",
   "execution_count": 8,
   "id": "e530fdd2-3ff9-45b5-a3c7-fa756a72194f",
   "metadata": {},
   "outputs": [
    {
     "data": {
      "text/plain": [
       "array([[42, 56, 38, 32,  6],\n",
       "       [90, 92, 36,  9, 92],\n",
       "       [88, 26, 47, 35, 99],\n",
       "       [21,  2, 56, 45, 59],\n",
       "       [54, 40, 80,  9, 18]])"
      ]
     },
     "execution_count": 8,
     "metadata": {},
     "output_type": "execute_result"
    }
   ],
   "source": [
    "data = np.array(np.random.randint(1, 100, size=25)).reshape(5,5)\n",
    "data"
   ]
  },
  {
   "cell_type": "markdown",
   "id": "5dd8eb9b-d995-4bca-9f7b-38a1728633a0",
   "metadata": {},
   "source": [
    "1. Matrix manipulation - Swap the second and fourth rows of the data matrix."
   ]
  },
  {
   "cell_type": "code",
   "execution_count": 9,
   "id": "54f7bd78-b2cb-414d-881c-88552750e333",
   "metadata": {},
   "outputs": [
    {
     "data": {
      "text/plain": [
       "array([[42, 56, 38, 32,  6],\n",
       "       [21,  2, 56, 45, 59],\n",
       "       [88, 26, 47, 35, 99],\n",
       "       [90, 92, 36,  9, 92],\n",
       "       [54, 40, 80,  9, 18]])"
      ]
     },
     "execution_count": 9,
     "metadata": {},
     "output_type": "execute_result"
    }
   ],
   "source": [
    "data[[1,3]] = data[[3,1]]\n",
    "data"
   ]
  },
  {
   "cell_type": "markdown",
   "id": "3769aeeb-8294-47d0-abdd-3f00d44d011a",
   "metadata": {},
   "source": [
    "2. Normalization- Normalize all the elements in the data matrix. In this context, normalizing means to scale the values in such a way that they fall within the range of 0 and 1. To achieve this, subtract the minimum value from each element and divide by the range (max-min)."
   ]
  },
  {
   "cell_type": "code",
   "execution_count": 10,
   "id": "887cfbdb-4d0f-4e45-83b3-f4597b74226a",
   "metadata": {},
   "outputs": [
    {
     "data": {
      "text/plain": [
       "array([[0.41237113, 0.55670103, 0.37113402, 0.30927835, 0.04123711],\n",
       "       [0.19587629, 0.        , 0.55670103, 0.44329897, 0.58762887],\n",
       "       [0.88659794, 0.24742268, 0.46391753, 0.34020619, 1.        ],\n",
       "       [0.90721649, 0.92783505, 0.35051546, 0.07216495, 0.92783505],\n",
       "       [0.53608247, 0.39175258, 0.80412371, 0.07216495, 0.16494845]])"
      ]
     },
     "execution_count": 10,
     "metadata": {},
     "output_type": "execute_result"
    }
   ],
   "source": [
    "data_norm = (data - np.min(data)) / (np.max(data) - np.min(data))\n",
    "data_norm"
   ]
  },
  {
   "cell_type": "markdown",
   "id": "8985edf7-68ce-4534-8489-e67440eaa861",
   "metadata": {},
   "source": [
    "3. Z-score normalization - Standardize the elements in the data matrix using Z-score normalization. In this method, all the elements will be rescaled to have a mean of 0 and a standard deviation of 1. The formula for Z-score normalization is\n",
    "(X - mean) / std , where ( X ) is the element in the data matrix."
   ]
  },
  {
   "cell_type": "code",
   "execution_count": 11,
   "id": "062cd534-a946-4369-b576-9e35a3fb5af7",
   "metadata": {},
   "outputs": [
    {
     "data": {
      "text/plain": [
       "array([[-0.16866281,  0.3152059 , -0.30691101, -0.51428331, -1.41289662],\n",
       "       [-0.89446587, -1.55114483,  0.3152059 , -0.06497665,  0.41889205],\n",
       "       [ 1.42119152, -0.72165561,  0.00414745, -0.41059716,  1.80137407],\n",
       "       [ 1.49031562,  1.55943972, -0.37603511, -1.30921047,  1.55943972],\n",
       "       [ 0.2460818 , -0.23778691,  1.14469511, -1.30921047, -0.99815202]])"
      ]
     },
     "execution_count": 11,
     "metadata": {},
     "output_type": "execute_result"
    }
   ],
   "source": [
    "data_z_score = (data - np.mean(data)) / np.std(data)\n",
    "data_z_score"
   ]
  },
  {
   "cell_type": "markdown",
   "id": "65cfa69e-d494-4441-b1a7-f9998dd65a91",
   "metadata": {},
   "source": [
    "4. Array splitting - Reshape the data matrix into a vector (Hint: use np.ravel) and split this array into five equal-sized sub-arrays."
   ]
  },
  {
   "cell_type": "code",
   "execution_count": 15,
   "id": "f2ad7256-5c2e-4b87-96ff-0ab16c5f5411",
   "metadata": {},
   "outputs": [
    {
     "data": {
      "text/plain": [
       "[array([42, 56, 38, 32,  6]),\n",
       " array([21,  2, 56, 45, 59]),\n",
       " array([88, 26, 47, 35, 99]),\n",
       " array([90, 92, 36,  9, 92]),\n",
       " array([54, 40, 80,  9, 18])]"
      ]
     },
     "execution_count": 15,
     "metadata": {},
     "output_type": "execute_result"
    }
   ],
   "source": [
    "data_vector = np.split(data.ravel(), 5)\n",
    "data_vector"
   ]
  },
  {
   "cell_type": "markdown",
   "id": "6d401617-f450-4ea5-adec-dc259ae74a5b",
   "metadata": {},
   "source": [
    "5. Dot product - Create two vectors of size 5 with any values. Compute the dot product of the two vectors*."
   ]
  },
  {
   "cell_type": "code",
   "execution_count": 16,
   "id": "cce7bef4-8ed5-435e-b694-84e20d92c793",
   "metadata": {},
   "outputs": [
    {
     "data": {
      "text/plain": [
       "198"
      ]
     },
     "execution_count": 16,
     "metadata": {},
     "output_type": "execute_result"
    }
   ],
   "source": [
    "vector1 = np.array([3, 5, 6, 7, 8])\n",
    "vector2 = np.array([2, 4, 6, 8, 10])\n",
    "np.dot(vector1, vector2)"
   ]
  },
  {
   "cell_type": "markdown",
   "id": "71bcf62a-8f2c-4231-88d6-5513bfaf3ab2",
   "metadata": {},
   "source": [
    "6. Matrix multiplication - Create another 3x3 matrix with any values (let’s call it data2). Perform matrix multiplication (dot product of data (first 3x3 part) and data2)."
   ]
  },
  {
   "cell_type": "code",
   "execution_count": 22,
   "id": "97cb1baa-3f68-4312-b9c8-bbe1de0d81a6",
   "metadata": {},
   "outputs": [
    {
     "data": {
      "text/plain": [
       "array([[5414, 4620, 5326],\n",
       "       [2042, 1995, 4288],\n",
       "       [8845, 5159, 6299]])"
      ]
     },
     "execution_count": 22,
     "metadata": {},
     "output_type": "execute_result"
    }
   ],
   "source": [
    "data2 = np.array(np.random.randint(1, 100, size=9)).reshape(3,3)\n",
    "np.dot(data[0:3, 0:3], data2)"
   ]
  },
  {
   "cell_type": "markdown",
   "id": "0e02050d-ff89-40d5-814f-2d366e096890",
   "metadata": {},
   "source": [
    "7. Inverse of a matrix - Create a 3x3 identity matrix*, multiply it with 2 and compute its inverse."
   ]
  },
  {
   "cell_type": "code",
   "execution_count": 29,
   "id": "d3d18424-7524-44fe-93a7-ec832bb74f52",
   "metadata": {},
   "outputs": [],
   "source": [
    "from numpy import linalg"
   ]
  },
  {
   "cell_type": "code",
   "execution_count": 30,
   "id": "72200609-a175-4351-9eed-a55cfa867929",
   "metadata": {},
   "outputs": [
    {
     "data": {
      "text/plain": [
       "array([[0.5, 0. , 0. ],\n",
       "       [0. , 0.5, 0. ],\n",
       "       [0. , 0. , 0.5]])"
      ]
     },
     "execution_count": 30,
     "metadata": {},
     "output_type": "execute_result"
    }
   ],
   "source": [
    "id_matrix = np.eye(3, k=0)\n",
    "inv(id_matrix * 2)"
   ]
  },
  {
   "cell_type": "markdown",
   "id": "39187acc-4f23-47d4-9b90-27e984ff768c",
   "metadata": {},
   "source": [
    "8. Eigenvalues and eigenvectors - For the first 3x3 part of the data matrix, compute the eigenvalues and eigenvectors*."
   ]
  },
  {
   "cell_type": "code",
   "execution_count": 31,
   "id": "408bc8da-3c41-4b27-8590-0c1e481ba693",
   "metadata": {},
   "outputs": [
    {
     "data": {
      "text/plain": [
       "array([130.6650356 +0.j        , -19.8325178+31.07256871j,\n",
       "       -19.8325178-31.07256871j])"
      ]
     },
     "execution_count": 31,
     "metadata": {},
     "output_type": "execute_result"
    }
   ],
   "source": [
    "eigenvalues, eigenvectors = linalg.eig(data[0:3, 0:3])\n",
    "eigenvalues"
   ]
  },
  {
   "cell_type": "code",
   "execution_count": 32,
   "id": "1b7fa027-482e-4a60-a440-6b6c6efb972f",
   "metadata": {},
   "outputs": [
    {
     "data": {
      "text/plain": [
       "array([[ 0.56421553+0.j        , -0.26116888-0.45706179j,\n",
       "        -0.26116888+0.45706179j],\n",
       "       [ 0.40518389+0.j        ,  0.64657295+0.j        ,\n",
       "         0.64657295-0.j        ],\n",
       "       [ 0.71936559+0.j        , -0.15413873+0.53016036j,\n",
       "        -0.15413873-0.53016036j]])"
      ]
     },
     "execution_count": 32,
     "metadata": {},
     "output_type": "execute_result"
    }
   ],
   "source": [
    "eigenvectors"
   ]
  },
  {
   "cell_type": "markdown",
   "id": "4f0b1fad-f0b5-470a-a680-63789c969de2",
   "metadata": {},
   "source": [
    "9. Find missing values - Replace random 5 elements in the data matrix with np.nan. Find the indices of the missing values."
   ]
  },
  {
   "cell_type": "code",
   "execution_count": 95,
   "id": "c7272cc8-f180-42e7-90e8-14aa223bb0a8",
   "metadata": {},
   "outputs": [
    {
     "data": {
      "text/plain": [
       "array([[42., 56., 38., nan,  6.],\n",
       "       [21.,  2., 56., 45., 59.],\n",
       "       [88., 26., nan, 35., 99.],\n",
       "       [90., nan, 36., nan, 92.],\n",
       "       [54., 40., 80., nan, 18.]])"
      ]
     },
     "execution_count": 95,
     "metadata": {},
     "output_type": "execute_result"
    }
   ],
   "source": [
    "data_missing = data.astype('float64')\n",
    "index_nan = np.random.choice(data_missing.size, 5, replace=False)\n",
    "data_missing.ravel()[index_nan] = np.nan\n",
    "data_missing"
   ]
  },
  {
   "cell_type": "code",
   "execution_count": 97,
   "id": "5ced15c7-7309-4e39-84d8-8e0764e88781",
   "metadata": {},
   "outputs": [
    {
     "data": {
      "text/plain": [
       "array([[0, 3],\n",
       "       [2, 2],\n",
       "       [3, 1],\n",
       "       [3, 3],\n",
       "       [4, 3]])"
      ]
     },
     "execution_count": 97,
     "metadata": {},
     "output_type": "execute_result"
    }
   ],
   "source": [
    "missing = np.argwhere(np.isnan(data_missing))\n",
    "missing"
   ]
  },
  {
   "cell_type": "markdown",
   "id": "1a8eaaf9-b11d-4729-bcc7-be805ff8819c",
   "metadata": {},
   "source": [
    "10. Replace missing values - Replace the missing values in the data matrix with the mean of the matrix (ignoring the missing values while computing the mean)."
   ]
  },
  {
   "cell_type": "code",
   "execution_count": 98,
   "id": "2397e0cf-5f37-43f9-81fa-a5d66eb91f46",
   "metadata": {},
   "outputs": [
    {
     "data": {
      "text/plain": [
       "array([[42.  , 56.  , 38.  , 49.15,  6.  ],\n",
       "       [21.  ,  2.  , 56.  , 45.  , 59.  ],\n",
       "       [88.  , 26.  , 49.15, 35.  , 99.  ],\n",
       "       [90.  , 49.15, 36.  , 49.15, 92.  ],\n",
       "       [54.  , 40.  , 80.  , 49.15, 18.  ]])"
      ]
     },
     "execution_count": 98,
     "metadata": {},
     "output_type": "execute_result"
    }
   ],
   "source": [
    "data_missing[np.isnan(data_missing)] = np.nanmean(data_missing)\n",
    "data_missing"
   ]
  },
  {
   "cell_type": "code",
   "execution_count": null,
   "id": "199d185d-7fe9-4241-a4ed-691a9ce2d441",
   "metadata": {},
   "outputs": [],
   "source": []
  }
 ],
 "metadata": {
  "kernelspec": {
   "display_name": "Python 3 (ipykernel)",
   "language": "python",
   "name": "python3"
  },
  "language_info": {
   "codemirror_mode": {
    "name": "ipython",
    "version": 3
   },
   "file_extension": ".py",
   "mimetype": "text/x-python",
   "name": "python",
   "nbconvert_exporter": "python",
   "pygments_lexer": "ipython3",
   "version": "3.11.6"
  }
 },
 "nbformat": 4,
 "nbformat_minor": 5
}
