{
 "cells": [
  {
   "cell_type": "markdown",
   "id": "63e88a7b-1133-4c71-8429-901a87ca8399",
   "metadata": {},
   "source": [
    "# Exercise 1:\n",
    "\n",
    "1. Import the numpy package under the name np."
   ]
  },
  {
   "cell_type": "code",
   "execution_count": 3,
   "id": "19b60c61-b4b5-4d10-8b87-53eb007fe1da",
   "metadata": {},
   "outputs": [],
   "source": [
    "import numpy as np"
   ]
  },
  {
   "cell_type": "markdown",
   "id": "f9305c32-b43d-4896-a5aa-2e3ec8e308d7",
   "metadata": {},
   "source": [
    "2. Create a vector* of zeros with size 10 using np.zeros()."
   ]
  },
  {
   "cell_type": "code",
   "execution_count": 5,
   "id": "8eb26f4d-1a8b-45fa-9f17-c83937202c97",
   "metadata": {},
   "outputs": [
    {
     "data": {
      "text/plain": [
       "array([0., 0., 0., 0., 0., 0., 0., 0., 0., 0.])"
      ]
     },
     "execution_count": 5,
     "metadata": {},
     "output_type": "execute_result"
    }
   ],
   "source": [
    "zeros = np.zeros(10)\n",
    "zeros"
   ]
  },
  {
   "cell_type": "markdown",
   "id": "471d27b7-45c5-458e-9ffa-bb6ec0552e68",
   "metadata": {},
   "source": [
    "3. Compute the memory size* of any array. Note: You can do this by multiplying the length of the array by the size of one array element, which you can find using the .itemsize attribute."
   ]
  },
  {
   "cell_type": "code",
   "execution_count": 7,
   "id": "d686d37b-5ba5-4e00-b3b3-a3fb6a5261b0",
   "metadata": {},
   "outputs": [
    {
     "data": {
      "text/plain": [
       "80"
      ]
     },
     "execution_count": 7,
     "metadata": {},
     "output_type": "execute_result"
    }
   ],
   "source": [
    "zeros.size * zeros.itemsize"
   ]
  },
  {
   "cell_type": "markdown",
   "id": "b26ee187-7213-4114-8aa5-7ba9aab26e53",
   "metadata": {},
   "source": [
    "4. Retrieve the documentation of the numpy add function from the command line."
   ]
  },
  {
   "cell_type": "code",
   "execution_count": 8,
   "id": "bce59bb9-bcf5-48d7-86cf-e70d39aab27f",
   "metadata": {},
   "outputs": [
    {
     "name": "stdout",
     "output_type": "stream",
     "text": [
      "Help on ufunc:\n",
      "\n",
      "add = <ufunc 'add'>\n",
      "    add(x1, x2, /, out=None, *, where=True, casting='same_kind', order='K', dtype=None, subok=True[, signature, extobj])\n",
      "    \n",
      "    Add arguments element-wise.\n",
      "    \n",
      "    Parameters\n",
      "    ----------\n",
      "    x1, x2 : array_like\n",
      "        The arrays to be added.\n",
      "        If ``x1.shape != x2.shape``, they must be broadcastable to a common\n",
      "        shape (which becomes the shape of the output).\n",
      "    out : ndarray, None, or tuple of ndarray and None, optional\n",
      "        A location into which the result is stored. If provided, it must have\n",
      "        a shape that the inputs broadcast to. If not provided or None,\n",
      "        a freshly-allocated array is returned. A tuple (possible only as a\n",
      "        keyword argument) must have length equal to the number of outputs.\n",
      "    where : array_like, optional\n",
      "        This condition is broadcast over the input. At locations where the\n",
      "        condition is True, the `out` array will be set to the ufunc result.\n",
      "        Elsewhere, the `out` array will retain its original value.\n",
      "        Note that if an uninitialized `out` array is created via the default\n",
      "        ``out=None``, locations within it where the condition is False will\n",
      "        remain uninitialized.\n",
      "    **kwargs\n",
      "        For other keyword-only arguments, see the\n",
      "        :ref:`ufunc docs <ufuncs.kwargs>`.\n",
      "    \n",
      "    Returns\n",
      "    -------\n",
      "    add : ndarray or scalar\n",
      "        The sum of `x1` and `x2`, element-wise.\n",
      "        This is a scalar if both `x1` and `x2` are scalars.\n",
      "    \n",
      "    Notes\n",
      "    -----\n",
      "    Equivalent to `x1` + `x2` in terms of array broadcasting.\n",
      "    \n",
      "    Examples\n",
      "    --------\n",
      "    >>> np.add(1.0, 4.0)\n",
      "    5.0\n",
      "    >>> x1 = np.arange(9.0).reshape((3, 3))\n",
      "    >>> x2 = np.arange(3.0)\n",
      "    >>> np.add(x1, x2)\n",
      "    array([[  0.,   2.,   4.],\n",
      "           [  3.,   5.,   7.],\n",
      "           [  6.,   8.,  10.]])\n",
      "    \n",
      "    The ``+`` operator can be used as a shorthand for ``np.add`` on ndarrays.\n",
      "    \n",
      "    >>> x1 = np.arange(9.0).reshape((3, 3))\n",
      "    >>> x2 = np.arange(3.0)\n",
      "    >>> x1 + x2\n",
      "    array([[ 0.,  2.,  4.],\n",
      "           [ 3.,  5.,  7.],\n",
      "           [ 6.,  8., 10.]])\n",
      "\n"
     ]
    }
   ],
   "source": [
    "help(np.add)"
   ]
  },
  {
   "cell_type": "markdown",
   "id": "bab77ab3-e903-4a6b-9de3-ae843f807136",
   "metadata": {},
   "source": [
    "5. Create a vector with values ranging from 10 to 49 using np.arange()."
   ]
  },
  {
   "cell_type": "code",
   "execution_count": 17,
   "id": "83935b0c-17a2-4e44-a0ba-f8a39b3013be",
   "metadata": {},
   "outputs": [
    {
     "data": {
      "text/plain": [
       "array([10, 11, 12, 13, 14, 15, 16, 17, 18, 19, 20, 21, 22, 23, 24, 25, 26,\n",
       "       27, 28, 29, 30, 31, 32, 33, 34, 35, 36, 37, 38, 39, 40, 41, 42, 43,\n",
       "       44, 45, 46, 47, 48, 49])"
      ]
     },
     "execution_count": 17,
     "metadata": {},
     "output_type": "execute_result"
    }
   ],
   "source": [
    "np.arange(10,50)"
   ]
  },
  {
   "cell_type": "markdown",
   "id": "5ff18a62-d52a-421d-a57d-7f276903a577",
   "metadata": {},
   "source": [
    "6. Reverse a vector so the first element becomes last (Hint: Use slicing)."
   ]
  },
  {
   "cell_type": "code",
   "execution_count": 18,
   "id": "d1e5df54-1440-42fd-b4de-b7c2b9902f91",
   "metadata": {},
   "outputs": [
    {
     "data": {
      "text/plain": [
       "array([49, 48, 47, 46, 45, 44, 43, 42, 41, 40, 39, 38, 37, 36, 35, 34, 33,\n",
       "       32, 31, 30, 29, 28, 27, 26, 25, 24, 23, 22, 21, 20, 19, 18, 17, 16,\n",
       "       15, 14, 13, 12, 11, 10])"
      ]
     },
     "execution_count": 18,
     "metadata": {},
     "output_type": "execute_result"
    }
   ],
   "source": [
    "np.arange(10,50)[::-1]"
   ]
  },
  {
   "cell_type": "markdown",
   "id": "ea13722e-a836-4371-91c0-aa67c8821baf",
   "metadata": {},
   "source": [
    "7. Create a 3x3 matrix* with values ranging from 0 to 8 using np.reshape()."
   ]
  },
  {
   "cell_type": "markdown",
   "id": "915bf0e8-c7eb-4639-b288-4d40dc952541",
   "metadata": {},
   "source": [
    "np.arange(0,9).reshape(3,3)"
   ]
  },
  {
   "cell_type": "markdown",
   "id": "15182ed5-ee58-4e5c-91e5-5809704e83ee",
   "metadata": {},
   "source": [
    "8. Find indices of non-zero elements from [1,2,0,0,4,0] using np.nonzero()."
   ]
  },
  {
   "cell_type": "code",
   "execution_count": 20,
   "id": "59a7c28c-cc8d-40f7-994f-f9edbadfc19a",
   "metadata": {},
   "outputs": [
    {
     "data": {
      "text/plain": [
       "(array([0, 1, 4]),)"
      ]
     },
     "execution_count": 20,
     "metadata": {},
     "output_type": "execute_result"
    }
   ],
   "source": [
    "np.nonzero([1,2,0,0,4,0])"
   ]
  },
  {
   "cell_type": "markdown",
   "id": "3ace05d9-fc19-45cd-8fc2-93fccdceee3f",
   "metadata": {},
   "source": [
    "9. Create a 3x3 identity matrix* using np.eye()."
   ]
  },
  {
   "cell_type": "code",
   "execution_count": 21,
   "id": "910e263b-6f3b-48c6-936f-0ebc900a4ef0",
   "metadata": {},
   "outputs": [
    {
     "data": {
      "text/plain": [
       "array([[1., 0., 0.],\n",
       "       [0., 1., 0.],\n",
       "       [0., 0., 1.]])"
      ]
     },
     "execution_count": 21,
     "metadata": {},
     "output_type": "execute_result"
    }
   ],
   "source": [
    "np.eye(3, k=0)"
   ]
  },
  {
   "cell_type": "markdown",
   "id": "18776ce8-16e8-4bb8-a708-d5e31d231989",
   "metadata": {},
   "source": [
    "10. Create a 5x5 matrix with row values ranging from 0 to 4. The output should be a matrix where each row is [0, 1, 2, 3, 4]."
   ]
  },
  {
   "cell_type": "code",
   "execution_count": 27,
   "id": "8110ab95-96eb-4970-8b00-116d5845179f",
   "metadata": {},
   "outputs": [
    {
     "data": {
      "text/plain": [
       "array([[0, 1, 2, 3, 4],\n",
       "       [0, 1, 2, 3, 4],\n",
       "       [0, 1, 2, 3, 4],\n",
       "       [0, 1, 2, 3, 4],\n",
       "       [0, 1, 2, 3, 4]])"
      ]
     },
     "execution_count": 27,
     "metadata": {},
     "output_type": "execute_result"
    }
   ],
   "source": [
    "row = np.arange(0,5)\n",
    "np.tile(row, (5, 1))"
   ]
  },
  {
   "cell_type": "markdown",
   "id": "259d94a6-fc60-49fb-a118-9ec599285a9f",
   "metadata": {},
   "source": [
    "11. Create a vector of size 10 with values ranging from 0 to 1, both excluded. You can use np.linspace."
   ]
  },
  {
   "cell_type": "code",
   "execution_count": 28,
   "id": "1b77d907-f5cd-4399-b60b-3d39be3ed95a",
   "metadata": {},
   "outputs": [
    {
     "data": {
      "text/plain": [
       "array([0.09090909, 0.18181818, 0.27272727, 0.36363636, 0.45454545,\n",
       "       0.54545455, 0.63636364, 0.72727273, 0.81818182, 0.90909091])"
      ]
     },
     "execution_count": 28,
     "metadata": {},
     "output_type": "execute_result"
    }
   ],
   "source": [
    "np.linspace(0,1,12)[1:-1]"
   ]
  },
  {
   "cell_type": "markdown",
   "id": "a32cfbb8-1e23-47d4-8714-9d3cafe0dc4c",
   "metadata": {},
   "source": [
    "12. Create a random vector of size 10 and sort it."
   ]
  },
  {
   "cell_type": "code",
   "execution_count": 29,
   "id": "8d33c478-3b09-40c0-a1dd-4cafc529415d",
   "metadata": {},
   "outputs": [
    {
     "data": {
      "text/plain": [
       "array([0.09839513, 0.11777566, 0.21347171, 0.29276536, 0.32690422,\n",
       "       0.37193345, 0.47089187, 0.56147533, 0.79273175, 0.84957074])"
      ]
     },
     "execution_count": 29,
     "metadata": {},
     "output_type": "execute_result"
    }
   ],
   "source": [
    "np.sort(np.random.rand(10))"
   ]
  },
  {
   "cell_type": "markdown",
   "id": "25dab589-d35a-4e71-b6b9-3136b7a6b334",
   "metadata": {},
   "source": [
    "13. Print the minimum and maximum representable value for each numpy scalar type* (int8, int32, int64, float32, float64). Use np.iinfo and np.finfo."
   ]
  },
  {
   "cell_type": "markdown",
   "id": "78291137-14bd-4bad-9ec2-8fd9bd7e1c08",
   "metadata": {},
   "source": [
    "np.iinfo(np.int8).min"
   ]
  },
  {
   "cell_type": "code",
   "execution_count": 34,
   "id": "3ce966a3-7501-4cb2-879a-d83b26b5f5dd",
   "metadata": {},
   "outputs": [
    {
     "data": {
      "text/plain": [
       "127"
      ]
     },
     "execution_count": 34,
     "metadata": {},
     "output_type": "execute_result"
    }
   ],
   "source": [
    "np.iinfo(np.int8).max"
   ]
  },
  {
   "cell_type": "code",
   "execution_count": 35,
   "id": "69ca7032-990a-4443-83e0-04bb5d1cabb8",
   "metadata": {},
   "outputs": [
    {
     "data": {
      "text/plain": [
       "-2147483648"
      ]
     },
     "execution_count": 35,
     "metadata": {},
     "output_type": "execute_result"
    }
   ],
   "source": [
    "np.iinfo(np.int32).min"
   ]
  },
  {
   "cell_type": "code",
   "execution_count": 36,
   "id": "71b6f059-9481-479c-b705-a761ee3cbead",
   "metadata": {},
   "outputs": [
    {
     "data": {
      "text/plain": [
       "2147483647"
      ]
     },
     "execution_count": 36,
     "metadata": {},
     "output_type": "execute_result"
    }
   ],
   "source": [
    "np.iinfo(np.int32).max"
   ]
  },
  {
   "cell_type": "code",
   "execution_count": 37,
   "id": "b0bee445-a7f5-46bf-855c-e1862fba6c48",
   "metadata": {},
   "outputs": [
    {
     "data": {
      "text/plain": [
       "-9223372036854775808"
      ]
     },
     "execution_count": 37,
     "metadata": {},
     "output_type": "execute_result"
    }
   ],
   "source": [
    "np.iinfo(np.int64).min"
   ]
  },
  {
   "cell_type": "code",
   "execution_count": 38,
   "id": "20e0f997-898f-4fad-b07b-cf79161c10b3",
   "metadata": {},
   "outputs": [
    {
     "data": {
      "text/plain": [
       "9223372036854775807"
      ]
     },
     "execution_count": 38,
     "metadata": {},
     "output_type": "execute_result"
    }
   ],
   "source": [
    "np.iinfo(np.int64).max"
   ]
  },
  {
   "cell_type": "code",
   "execution_count": 39,
   "id": "4b98ed66-08fc-430c-bf3a-4ece7bf69e93",
   "metadata": {},
   "outputs": [
    {
     "data": {
      "text/plain": [
       "-3.4028235e+38"
      ]
     },
     "execution_count": 39,
     "metadata": {},
     "output_type": "execute_result"
    }
   ],
   "source": [
    "np.finfo(np.float32).min"
   ]
  },
  {
   "cell_type": "code",
   "execution_count": 40,
   "id": "e617c0f7-11f5-4284-b513-6a9a0de20c3e",
   "metadata": {},
   "outputs": [
    {
     "data": {
      "text/plain": [
       "3.4028235e+38"
      ]
     },
     "execution_count": 40,
     "metadata": {},
     "output_type": "execute_result"
    }
   ],
   "source": [
    "np.finfo(np.float32).max"
   ]
  },
  {
   "cell_type": "code",
   "execution_count": 41,
   "id": "b10dccee-c7b5-4ec1-beff-2d0bed338098",
   "metadata": {},
   "outputs": [
    {
     "data": {
      "text/plain": [
       "-1.7976931348623157e+308"
      ]
     },
     "execution_count": 41,
     "metadata": {},
     "output_type": "execute_result"
    }
   ],
   "source": [
    "np.finfo(np.float64).min"
   ]
  },
  {
   "cell_type": "code",
   "execution_count": 42,
   "id": "6d46053d-6a06-49a8-b641-ca6cf9b0e4cb",
   "metadata": {},
   "outputs": [
    {
     "data": {
      "text/plain": [
       "1.7976931348623157e+308"
      ]
     },
     "execution_count": 42,
     "metadata": {},
     "output_type": "execute_result"
    }
   ],
   "source": [
    "np.finfo(np.float64).max"
   ]
  },
  {
   "cell_type": "markdown",
   "id": "d7cb11d4-85c3-4357-bcfe-835d7e4ccb73",
   "metadata": {},
   "source": [
    "14. How to convert a float (32 bits) array into an integer (32 bits) in place? Use np.ndarray.astype."
   ]
  },
  {
   "cell_type": "code",
   "execution_count": 44,
   "id": "b0b92bbe-02ae-4e13-8e20-d24c7dad263b",
   "metadata": {},
   "outputs": [
    {
     "data": {
      "text/plain": [
       "array([1, 2, 2])"
      ]
     },
     "execution_count": 44,
     "metadata": {},
     "output_type": "execute_result"
    }
   ],
   "source": [
    "np.array([1.28, 2.35780, 2.8]).astype(int)"
   ]
  },
  {
   "cell_type": "markdown",
   "id": "6a417159-15a5-4845-9f15-dbf106a1a1de",
   "metadata": {},
   "source": [
    "15. Subtract the mean* of each row of a matrix. Use np.mean with axis=1."
   ]
  },
  {
   "cell_type": "code",
   "execution_count": 46,
   "id": "8dab030b-fdc6-4b8b-a8a0-141fb5b4700b",
   "metadata": {},
   "outputs": [
    {
     "data": {
      "text/plain": [
       "array([[-1., -3., -5.],\n",
       "       [ 2.,  0., -2.],\n",
       "       [ 5.,  3.,  1.]])"
      ]
     },
     "execution_count": 46,
     "metadata": {},
     "output_type": "execute_result"
    }
   ],
   "source": [
    "mymatrix = np.array([[1, 2, 3], [4, 5, 6], [7, 8, 9]])\n",
    "mymatrix - np.mean(mymatrix, axis=1)"
   ]
  },
  {
   "cell_type": "markdown",
   "id": "978f3a80-1f60-48ac-beaf-cba8587d8d1a",
   "metadata": {},
   "source": [
    "16. How to sort an array by the nth column? Use np.argsort."
   ]
  },
  {
   "cell_type": "code",
   "execution_count": 54,
   "id": "8a6a9a99-595e-4d22-8973-5ca0df301f4d",
   "metadata": {},
   "outputs": [
    {
     "data": {
      "text/plain": [
       "array([[0, 1, 2],\n",
       "       [3, 4, 5],\n",
       "       [6, 7, 8]])"
      ]
     },
     "execution_count": 54,
     "metadata": {},
     "output_type": "execute_result"
    }
   ],
   "source": [
    "mysort = np.array([[0, 5, 3], [2, 2, 1], [4, 6, 2]])\n",
    "mysort[mysort[:,2].argsort()]"
   ]
  },
  {
   "cell_type": "markdown",
   "id": "6df55ace-b34a-430a-bcf5-2f171457be5c",
   "metadata": {},
   "source": [
    "17. How to swap two rows of an array? You can do this using array indexing."
   ]
  },
  {
   "cell_type": "code",
   "execution_count": 56,
   "id": "aed1f5d3-78d0-4f27-8673-7dd998df01ac",
   "metadata": {},
   "outputs": [
    {
     "data": {
      "text/plain": [
       "array([[3, 4, 5],\n",
       "       [0, 1, 2],\n",
       "       [6, 7, 8]])"
      ]
     },
     "execution_count": 56,
     "metadata": {},
     "output_type": "execute_result"
    }
   ],
   "source": [
    "myswap = np.array([[0, 1, 2], [3, 4, 5], [6, 7, 8]])\n",
    "myswap[[0,1]] = myswap[[1,0]]\n",
    "myswap"
   ]
  },
  {
   "cell_type": "markdown",
   "id": "3385dded-a703-47a1-a186-c591db932482",
   "metadata": {},
   "source": [
    "18. Given an array C that is a bincount*, how to produce an array A such that np.bincount(A) == C? Use np.repeat."
   ]
  },
  {
   "cell_type": "code",
   "execution_count": 62,
   "id": "5ee65bad-5ee7-41ee-bbf6-57e6d8a5d844",
   "metadata": {},
   "outputs": [
    {
     "data": {
      "text/plain": [
       "array([0, 0, 1, 1, 1, 2])"
      ]
     },
     "execution_count": 62,
     "metadata": {},
     "output_type": "execute_result"
    }
   ],
   "source": [
    "c = np.array([2,3,1])\n",
    "b = np.array([0,1,2])\n",
    "a = np.repeat(b, c)\n",
    "a"
   ]
  },
  {
   "cell_type": "code",
   "execution_count": 63,
   "id": "a8ba882d-f8eb-4a7e-9468-b5d9f26e7ce8",
   "metadata": {},
   "outputs": [
    {
     "data": {
      "text/plain": [
       "array([2, 3, 1])"
      ]
     },
     "execution_count": 63,
     "metadata": {},
     "output_type": "execute_result"
    }
   ],
   "source": [
    "np.bincount(a)"
   ]
  },
  {
   "cell_type": "code",
   "execution_count": null,
   "id": "c9cc8cb2-b998-4685-9691-cd6ff99ca4aa",
   "metadata": {},
   "outputs": [],
   "source": []
  }
 ],
 "metadata": {
  "kernelspec": {
   "display_name": "Python 3 (ipykernel)",
   "language": "python",
   "name": "python3"
  },
  "language_info": {
   "codemirror_mode": {
    "name": "ipython",
    "version": 3
   },
   "file_extension": ".py",
   "mimetype": "text/x-python",
   "name": "python",
   "nbconvert_exporter": "python",
   "pygments_lexer": "ipython3",
   "version": "3.11.6"
  }
 },
 "nbformat": 4,
 "nbformat_minor": 5
}
